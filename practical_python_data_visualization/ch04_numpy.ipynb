{
 "cells": [
  {
   "cell_type": "code",
   "execution_count": 15,
   "id": "d6a43233",
   "metadata": {},
   "outputs": [],
   "source": [
    "# !pip install numpy\n",
    "# !pip freeze > ./requirements.txt\n",
    "# !cat requirements.txt | grep num\n",
    "# !git status"
   ]
  },
  {
   "cell_type": "code",
   "execution_count": 18,
   "id": "6a1d0a7b",
   "metadata": {},
   "outputs": [],
   "source": [
    "import numpy as np"
   ]
  },
  {
   "cell_type": "code",
   "execution_count": 19,
   "id": "567433da",
   "metadata": {},
   "outputs": [],
   "source": [
    "l1 = [1, 2, 3]"
   ]
  },
  {
   "cell_type": "code",
   "execution_count": 20,
   "id": "b4164833",
   "metadata": {},
   "outputs": [],
   "source": [
    "x = np.array(l1, dtype=np.int16)"
   ]
  },
  {
   "cell_type": "code",
   "execution_count": 30,
   "id": "8679e580",
   "metadata": {},
   "outputs": [
    {
     "name": "stdout",
     "output_type": "stream",
     "text": [
      "x: [1 2 3]\n"
     ]
    }
   ],
   "source": [
    "print(f'x: {x}')"
   ]
  },
  {
   "cell_type": "code",
   "execution_count": 32,
   "id": "b912a32d",
   "metadata": {},
   "outputs": [
    {
     "name": "stdout",
     "output_type": "stream",
     "text": [
      "type(x): <class 'numpy.ndarray'>\n"
     ]
    }
   ],
   "source": [
    "print(f'type(x): {type(x)}')"
   ]
  },
  {
   "cell_type": "code",
   "execution_count": 33,
   "id": "26623ad6",
   "metadata": {},
   "outputs": [
    {
     "name": "stdout",
     "output_type": "stream",
     "text": [
      "x[0]: 1\n",
      "x[1]: 2\n",
      "x[2]: 3\n"
     ]
    }
   ],
   "source": [
    "print(f'x[0]: {x[0]}');print(f'x[1]: {x[1]}');print(f'x[2]: {x[2]}')"
   ]
  },
  {
   "cell_type": "code",
   "execution_count": 34,
   "id": "3a6507ba",
   "metadata": {},
   "outputs": [
    {
     "name": "stdout",
     "output_type": "stream",
     "text": [
      "x[-1]: 3\n"
     ]
    }
   ],
   "source": [
    "print(f'x[-1]: {x[-1]}')"
   ]
  },
  {
   "cell_type": "code",
   "execution_count": 35,
   "id": "f344cc60",
   "metadata": {},
   "outputs": [],
   "source": [
    "# print(x[3]) IndexError: index 3 is out of bounds for axis 0 with size 3"
   ]
  },
  {
   "cell_type": "markdown",
   "id": "0bc5e1a6",
   "metadata": {},
   "source": [
    "### More Than One Dimension"
   ]
  },
  {
   "cell_type": "code",
   "execution_count": null,
   "id": "a3a1d04c",
   "metadata": {},
   "outputs": [],
   "source": []
  },
  {
   "cell_type": "code",
   "execution_count": null,
   "id": "51ef2649",
   "metadata": {},
   "outputs": [],
   "source": []
  },
  {
   "cell_type": "code",
   "execution_count": null,
   "id": "fffe4608",
   "metadata": {},
   "outputs": [],
   "source": []
  }
 ],
 "metadata": {
  "kernelspec": {
   "display_name": "Python 3 (ipykernel)",
   "language": "python",
   "name": "python3"
  },
  "language_info": {
   "codemirror_mode": {
    "name": "ipython",
    "version": 3
   },
   "file_extension": ".py",
   "mimetype": "text/x-python",
   "name": "python",
   "nbconvert_exporter": "python",
   "pygments_lexer": "ipython3",
   "version": "3.10.9"
  }
 },
 "nbformat": 4,
 "nbformat_minor": 5
}
