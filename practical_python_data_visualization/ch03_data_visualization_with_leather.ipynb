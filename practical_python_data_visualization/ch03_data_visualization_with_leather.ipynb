{
 "cells": [
  {
   "cell_type": "code",
   "execution_count": 7,
   "id": "6a8c2978",
   "metadata": {},
   "outputs": [
    {
     "name": "stdout",
     "output_type": "stream",
     "text": [
      "ch02_jupyter.ipynb\r\n",
      "ch03_data_visualization_with_leather.ipynb\r\n"
     ]
    }
   ],
   "source": [
    "!ls"
   ]
  },
  {
   "cell_type": "code",
   "execution_count": 8,
   "id": "f7cbd95d",
   "metadata": {},
   "outputs": [],
   "source": [
    "# !pip install leather"
   ]
  },
  {
   "cell_type": "code",
   "execution_count": 9,
   "id": "ee5ab0cc",
   "metadata": {},
   "outputs": [],
   "source": [
    "# !pip list"
   ]
  },
  {
   "cell_type": "code",
   "execution_count": 12,
   "id": "b4173216",
   "metadata": {},
   "outputs": [],
   "source": [
    "# !pip search leather"
   ]
  },
  {
   "cell_type": "code",
   "execution_count": 13,
   "id": "e907853a",
   "metadata": {},
   "outputs": [
    {
     "name": "stdout",
     "output_type": "stream",
     "text": [
      "Odd\n"
     ]
    }
   ],
   "source": [
    "a = 3\n",
    "if a % 2 == 0:\n",
    "    print('Even')\n",
    "else:\n",
    "    print('Odd')"
   ]
  },
  {
   "cell_type": "code",
   "execution_count": 15,
   "id": "723b84bd",
   "metadata": {},
   "outputs": [],
   "source": [
    "# import this"
   ]
  },
  {
   "cell_type": "markdown",
   "id": "b27daad7",
   "metadata": {},
   "source": [
    "## Using Leather"
   ]
  },
  {
   "cell_type": "code",
   "execution_count": 16,
   "id": "3cfa61da",
   "metadata": {},
   "outputs": [],
   "source": [
    "import leather"
   ]
  },
  {
   "cell_type": "code",
   "execution_count": 20,
   "id": "8fa81253",
   "metadata": {},
   "outputs": [],
   "source": [
    "data1 = [(1.5, 2), (2, 3), (4.5, 6), (7.5, 4)]"
   ]
  },
  {
   "cell_type": "code",
   "execution_count": 21,
   "id": "7b38cea3",
   "metadata": {},
   "outputs": [],
   "source": [
    "data1 = [[1.5, 2], [2, 3], [4.5, 6], [7.5, 4]]"
   ]
  },
  {
   "cell_type": "code",
   "execution_count": 22,
   "id": "7b6fd7c4",
   "metadata": {},
   "outputs": [],
   "source": [
    "data1 = ((1.5, 2), (2, 3), (4.5, 6), (7.5, 4))"
   ]
  },
  {
   "cell_type": "code",
   "execution_count": 23,
   "id": "7fe07375",
   "metadata": {},
   "outputs": [],
   "source": [
    "data1 = ([1.5, 2], [2, 3], [4.5, 6], [7.5, 4])"
   ]
  },
  {
   "cell_type": "code",
   "execution_count": 24,
   "id": "ac2f4e7b",
   "metadata": {},
   "outputs": [],
   "source": [
    "chart = leather.Chart('Simple pairs of x-y')"
   ]
  },
  {
   "cell_type": "code",
   "execution_count": 25,
   "id": "fc7a5b72",
   "metadata": {},
   "outputs": [],
   "source": [
    "chart.add_dots(data1)"
   ]
  },
  {
   "cell_type": "code",
   "execution_count": 26,
   "id": "81e82b49",
   "metadata": {},
   "outputs": [
    {
     "data": {
      "image/svg+xml": [
       "<svg xmlns=\"http://www.w3.org/2000/svg\" width=\"800\" height=\"600\" version=\"1.1\"><g><rect x=\"0\" y=\"0\" width=\"800\" height=\"600\" fill=\"#f9f9f9\"/><g transform=\"translate(40 40)\"><g transform=\"translate(16 0)\"><text x=\"0\" y=\"0\" fill=\"#333\" font-family=\"Monaco\" font-size=\"16\">Simple pairs of x-y</text></g><g transform=\"translate(0 20)\"><g transform=\"translate(16 0)\"><g class=\"axis bottom\"><g class=\"tick\"><line x1=\"234.6666666666666666666666666\" y1=\"0\" x2=\"234.6666666666666666666666666\" y2=\"482.0\" stroke=\"#eee\" stroke-width=\"1\"/><text x=\"234.6666666666666666666666666\" y=\"486.0\" dy=\"1em\" fill=\"#9c9c9c\" text-anchor=\"middle\" font-family=\"Monaco\">2.5</text></g><g class=\"tick\"><line x1=\"469.3333333333333333333333334\" y1=\"0\" x2=\"469.3333333333333333333333334\" y2=\"482.0\" stroke=\"#eee\" stroke-width=\"1\"/><text x=\"469.3333333333333333333333334\" y=\"486.0\" dy=\"1em\" fill=\"#9c9c9c\" text-anchor=\"middle\" font-family=\"Monaco\">5</text></g><g class=\"tick\"><line x1=\"704\" y1=\"0\" x2=\"704\" y2=\"482.0\" stroke=\"#eee\" stroke-width=\"1\"/><text x=\"704\" y=\"486.0\" dy=\"1em\" fill=\"#9c9c9c\" text-anchor=\"middle\" font-family=\"Monaco\">7.5</text></g><g class=\"tick\"><line x1=\"0\" y1=\"0\" x2=\"0\" y2=\"482.0\" stroke=\"#a8a8a8\" stroke-width=\"1\"/><text x=\"0\" y=\"486.0\" dy=\"1em\" fill=\"#9c9c9c\" text-anchor=\"middle\" font-family=\"Monaco\">0</text></g></g><g class=\"axis left\"><g class=\"tick\"><line x1=\"-4\" y1=\"478\" x2=\"704.0\" y2=\"478\" stroke=\"#eee\" stroke-width=\"1\"/><text x=\"-8\" y=\"478\" dy=\"0.32em\" fill=\"#9c9c9c\" text-anchor=\"end\" font-family=\"Monaco\">2</text></g><g class=\"tick\"><line x1=\"-4\" y1=\"358.50\" x2=\"704.0\" y2=\"358.50\" stroke=\"#eee\" stroke-width=\"1\"/><text x=\"-8\" y=\"358.50\" dy=\"0.32em\" fill=\"#9c9c9c\" text-anchor=\"end\" font-family=\"Monaco\">3</text></g><g class=\"tick\"><line x1=\"-4\" y1=\"239.0\" x2=\"704.0\" y2=\"239.0\" stroke=\"#eee\" stroke-width=\"1\"/><text x=\"-8\" y=\"239.0\" dy=\"0.32em\" fill=\"#9c9c9c\" text-anchor=\"end\" font-family=\"Monaco\">4</text></g><g class=\"tick\"><line x1=\"-4\" y1=\"119.50\" x2=\"704.0\" y2=\"119.50\" stroke=\"#eee\" stroke-width=\"1\"/><text x=\"-8\" y=\"119.50\" dy=\"0.32em\" fill=\"#9c9c9c\" text-anchor=\"end\" font-family=\"Monaco\">5</text></g><g class=\"tick\"><line x1=\"-4\" y1=\"0\" x2=\"704.0\" y2=\"0\" stroke=\"#eee\" stroke-width=\"1\"/><text x=\"-8\" y=\"0\" dy=\"0.32em\" fill=\"#9c9c9c\" text-anchor=\"end\" font-family=\"Monaco\">6</text></g></g><g><g class=\"series dots\"><circle cx=\"140.8\" cy=\"478\" r=\"3\" fill=\"#e41a1c\"/><circle cx=\"187.7333333333333333333333334\" cy=\"358.50\" r=\"3\" fill=\"#e41a1c\"/><circle cx=\"422.4\" cy=\"0\" r=\"3\" fill=\"#e41a1c\"/><circle cx=\"704\" cy=\"239.0\" r=\"3\" fill=\"#e41a1c\"/></g></g></g></g></g></g></svg>"
      ],
      "text/plain": [
       "<IPython.core.display.SVG object>"
      ]
     },
     "execution_count": 26,
     "metadata": {},
     "output_type": "execute_result"
    }
   ],
   "source": [
    "chart.to_svg()"
   ]
  },
  {
   "cell_type": "code",
   "execution_count": 28,
   "id": "ea332a9b",
   "metadata": {},
   "outputs": [],
   "source": [
    "# chart.to_svg('image1.svg') # save the image"
   ]
  },
  {
   "cell_type": "markdown",
   "id": "9d35a726",
   "metadata": {},
   "source": [
    "### customize dots as follows"
   ]
  },
  {
   "cell_type": "code",
   "execution_count": 29,
   "id": "3c92fe9e",
   "metadata": {},
   "outputs": [],
   "source": [
    "chart = leather.Chart('Customised Dots')"
   ]
  },
  {
   "cell_type": "code",
   "execution_count": 30,
   "id": "0ede2494",
   "metadata": {},
   "outputs": [],
   "source": [
    "chart.add_dots(data1, fill_color='#00ff00', radius=10)"
   ]
  },
  {
   "cell_type": "code",
   "execution_count": 31,
   "id": "ffd481ba",
   "metadata": {},
   "outputs": [
    {
     "data": {
      "image/svg+xml": [
       "<svg xmlns=\"http://www.w3.org/2000/svg\" width=\"800\" height=\"600\" version=\"1.1\"><g><rect x=\"0\" y=\"0\" width=\"800\" height=\"600\" fill=\"#f9f9f9\"/><g transform=\"translate(40 40)\"><g transform=\"translate(16 0)\"><text x=\"0\" y=\"0\" fill=\"#333\" font-family=\"Monaco\" font-size=\"16\">Customised Dots</text></g><g transform=\"translate(0 20)\"><g transform=\"translate(16 0)\"><g class=\"axis bottom\"><g class=\"tick\"><line x1=\"234.6666666666666666666666666\" y1=\"0\" x2=\"234.6666666666666666666666666\" y2=\"482.0\" stroke=\"#eee\" stroke-width=\"1\"/><text x=\"234.6666666666666666666666666\" y=\"486.0\" dy=\"1em\" fill=\"#9c9c9c\" text-anchor=\"middle\" font-family=\"Monaco\">2.5</text></g><g class=\"tick\"><line x1=\"469.3333333333333333333333334\" y1=\"0\" x2=\"469.3333333333333333333333334\" y2=\"482.0\" stroke=\"#eee\" stroke-width=\"1\"/><text x=\"469.3333333333333333333333334\" y=\"486.0\" dy=\"1em\" fill=\"#9c9c9c\" text-anchor=\"middle\" font-family=\"Monaco\">5</text></g><g class=\"tick\"><line x1=\"704\" y1=\"0\" x2=\"704\" y2=\"482.0\" stroke=\"#eee\" stroke-width=\"1\"/><text x=\"704\" y=\"486.0\" dy=\"1em\" fill=\"#9c9c9c\" text-anchor=\"middle\" font-family=\"Monaco\">7.5</text></g><g class=\"tick\"><line x1=\"0\" y1=\"0\" x2=\"0\" y2=\"482.0\" stroke=\"#a8a8a8\" stroke-width=\"1\"/><text x=\"0\" y=\"486.0\" dy=\"1em\" fill=\"#9c9c9c\" text-anchor=\"middle\" font-family=\"Monaco\">0</text></g></g><g class=\"axis left\"><g class=\"tick\"><line x1=\"-4\" y1=\"478\" x2=\"704.0\" y2=\"478\" stroke=\"#eee\" stroke-width=\"1\"/><text x=\"-8\" y=\"478\" dy=\"0.32em\" fill=\"#9c9c9c\" text-anchor=\"end\" font-family=\"Monaco\">2</text></g><g class=\"tick\"><line x1=\"-4\" y1=\"358.50\" x2=\"704.0\" y2=\"358.50\" stroke=\"#eee\" stroke-width=\"1\"/><text x=\"-8\" y=\"358.50\" dy=\"0.32em\" fill=\"#9c9c9c\" text-anchor=\"end\" font-family=\"Monaco\">3</text></g><g class=\"tick\"><line x1=\"-4\" y1=\"239.0\" x2=\"704.0\" y2=\"239.0\" stroke=\"#eee\" stroke-width=\"1\"/><text x=\"-8\" y=\"239.0\" dy=\"0.32em\" fill=\"#9c9c9c\" text-anchor=\"end\" font-family=\"Monaco\">4</text></g><g class=\"tick\"><line x1=\"-4\" y1=\"119.50\" x2=\"704.0\" y2=\"119.50\" stroke=\"#eee\" stroke-width=\"1\"/><text x=\"-8\" y=\"119.50\" dy=\"0.32em\" fill=\"#9c9c9c\" text-anchor=\"end\" font-family=\"Monaco\">5</text></g><g class=\"tick\"><line x1=\"-4\" y1=\"0\" x2=\"704.0\" y2=\"0\" stroke=\"#eee\" stroke-width=\"1\"/><text x=\"-8\" y=\"0\" dy=\"0.32em\" fill=\"#9c9c9c\" text-anchor=\"end\" font-family=\"Monaco\">6</text></g></g><g><g class=\"series dots\"><circle cx=\"140.8\" cy=\"478\" r=\"10\" fill=\"#00ff00\"/><circle cx=\"187.7333333333333333333333334\" cy=\"358.50\" r=\"10\" fill=\"#00ff00\"/><circle cx=\"422.4\" cy=\"0\" r=\"10\" fill=\"#00ff00\"/><circle cx=\"704\" cy=\"239.0\" r=\"10\" fill=\"#00ff00\"/></g></g></g></g></g></g></svg>"
      ],
      "text/plain": [
       "<IPython.core.display.SVG object>"
      ]
     },
     "execution_count": 31,
     "metadata": {},
     "output_type": "execute_result"
    }
   ],
   "source": [
    "chart.to_svg()"
   ]
  },
  {
   "cell_type": "code",
   "execution_count": 40,
   "id": "d61f0fb6",
   "metadata": {},
   "outputs": [],
   "source": [
    "data2 = [(2, 3), (4, 5), (5, 6), (7, 5)]"
   ]
  },
  {
   "cell_type": "code",
   "execution_count": 41,
   "id": "3fcaaeb5",
   "metadata": {},
   "outputs": [],
   "source": [
    "chart = leather.Chart('Visualizing Multiple Series')"
   ]
  },
  {
   "cell_type": "code",
   "execution_count": 42,
   "id": "ff6fe340",
   "metadata": {},
   "outputs": [],
   "source": [
    "chart.add_dots(data1)"
   ]
  },
  {
   "cell_type": "code",
   "execution_count": 43,
   "id": "8c0c3591",
   "metadata": {},
   "outputs": [],
   "source": [
    "chart.add_dots(data2)"
   ]
  },
  {
   "cell_type": "code",
   "execution_count": 44,
   "id": "80f0756f",
   "metadata": {},
   "outputs": [
    {
     "data": {
      "image/svg+xml": [
       "<svg xmlns=\"http://www.w3.org/2000/svg\" width=\"800\" height=\"600\" version=\"1.1\"><g><rect x=\"0\" y=\"0\" width=\"800\" height=\"600\" fill=\"#f9f9f9\"/><g transform=\"translate(40 40)\"><g transform=\"translate(16 0)\"><text x=\"0\" y=\"0\" fill=\"#333\" font-family=\"Monaco\" font-size=\"16\">Visualizing Multiple Series</text><g transform=\"translate(0 20)\"><g transform=\"translate(0 0)\"><rect x=\"0\" y=\"-10\" width=\"10\" height=\"10\" fill=\"#e41a1c\"/><text x=\"14\" y=\"0\" fill=\"#666\" font-family=\"Monaco\" font-size=\"14\">Unnamed series</text></g><g transform=\"translate(158 0)\"><rect x=\"0\" y=\"-10\" width=\"10\" height=\"10\" fill=\"#377eb8\"/><text x=\"14\" y=\"0\" fill=\"#666\" font-family=\"Monaco\" font-size=\"14\">Unnamed series</text></g></g></g><g transform=\"translate(0 38)\"><g transform=\"translate(16 0)\"><g class=\"axis bottom\"><g class=\"tick\"><line x1=\"234.6666666666666666666666666\" y1=\"0\" x2=\"234.6666666666666666666666666\" y2=\"464.0\" stroke=\"#eee\" stroke-width=\"1\"/><text x=\"234.6666666666666666666666666\" y=\"468.0\" dy=\"1em\" fill=\"#9c9c9c\" text-anchor=\"middle\" font-family=\"Monaco\">2.5</text></g><g class=\"tick\"><line x1=\"469.3333333333333333333333334\" y1=\"0\" x2=\"469.3333333333333333333333334\" y2=\"464.0\" stroke=\"#eee\" stroke-width=\"1\"/><text x=\"469.3333333333333333333333334\" y=\"468.0\" dy=\"1em\" fill=\"#9c9c9c\" text-anchor=\"middle\" font-family=\"Monaco\">5</text></g><g class=\"tick\"><line x1=\"704\" y1=\"0\" x2=\"704\" y2=\"464.0\" stroke=\"#eee\" stroke-width=\"1\"/><text x=\"704\" y=\"468.0\" dy=\"1em\" fill=\"#9c9c9c\" text-anchor=\"middle\" font-family=\"Monaco\">7.5</text></g><g class=\"tick\"><line x1=\"0\" y1=\"0\" x2=\"0\" y2=\"464.0\" stroke=\"#a8a8a8\" stroke-width=\"1\"/><text x=\"0\" y=\"468.0\" dy=\"1em\" fill=\"#9c9c9c\" text-anchor=\"middle\" font-family=\"Monaco\">0</text></g></g><g class=\"axis left\"><g class=\"tick\"><line x1=\"-4\" y1=\"460\" x2=\"704.0\" y2=\"460\" stroke=\"#eee\" stroke-width=\"1\"/><text x=\"-8\" y=\"460\" dy=\"0.32em\" fill=\"#9c9c9c\" text-anchor=\"end\" font-family=\"Monaco\">2</text></g><g class=\"tick\"><line x1=\"-4\" y1=\"345.00\" x2=\"704.0\" y2=\"345.00\" stroke=\"#eee\" stroke-width=\"1\"/><text x=\"-8\" y=\"345.00\" dy=\"0.32em\" fill=\"#9c9c9c\" text-anchor=\"end\" font-family=\"Monaco\">3</text></g><g class=\"tick\"><line x1=\"-4\" y1=\"230.0\" x2=\"704.0\" y2=\"230.0\" stroke=\"#eee\" stroke-width=\"1\"/><text x=\"-8\" y=\"230.0\" dy=\"0.32em\" fill=\"#9c9c9c\" text-anchor=\"end\" font-family=\"Monaco\">4</text></g><g class=\"tick\"><line x1=\"-4\" y1=\"115.00\" x2=\"704.0\" y2=\"115.00\" stroke=\"#eee\" stroke-width=\"1\"/><text x=\"-8\" y=\"115.00\" dy=\"0.32em\" fill=\"#9c9c9c\" text-anchor=\"end\" font-family=\"Monaco\">5</text></g><g class=\"tick\"><line x1=\"-4\" y1=\"0\" x2=\"704.0\" y2=\"0\" stroke=\"#eee\" stroke-width=\"1\"/><text x=\"-8\" y=\"0\" dy=\"0.32em\" fill=\"#9c9c9c\" text-anchor=\"end\" font-family=\"Monaco\">6</text></g></g><g><g class=\"series dots\"><circle cx=\"140.8\" cy=\"460\" r=\"3\" fill=\"#e41a1c\"/><circle cx=\"187.7333333333333333333333334\" cy=\"345.00\" r=\"3\" fill=\"#e41a1c\"/><circle cx=\"422.4\" cy=\"0\" r=\"3\" fill=\"#e41a1c\"/><circle cx=\"704\" cy=\"230.0\" r=\"3\" fill=\"#e41a1c\"/></g><g class=\"series dots\"><circle cx=\"187.7333333333333333333333334\" cy=\"345.00\" r=\"3\" fill=\"#377eb8\"/><circle cx=\"375.4666666666666666666666666\" cy=\"115.00\" r=\"3\" fill=\"#377eb8\"/><circle cx=\"469.3333333333333333333333334\" cy=\"0\" r=\"3\" fill=\"#377eb8\"/><circle cx=\"657.0666666666666666666666666\" cy=\"115.00\" r=\"3\" fill=\"#377eb8\"/></g></g></g></g></g></g></svg>"
      ],
      "text/plain": [
       "<IPython.core.display.SVG object>"
      ]
     },
     "execution_count": 44,
     "metadata": {},
     "output_type": "execute_result"
    }
   ],
   "source": [
    "chart.to_svg()"
   ]
  },
  {
   "cell_type": "markdown",
   "id": "17fc3628",
   "metadata": {},
   "source": [
    "### More Types of Visualizations"
   ]
  },
  {
   "cell_type": "code",
   "execution_count": 45,
   "id": "2f3b559d",
   "metadata": {},
   "outputs": [
    {
     "data": {
      "image/svg+xml": [
       "<svg xmlns=\"http://www.w3.org/2000/svg\" width=\"800\" height=\"600\" version=\"1.1\"><g><rect x=\"0\" y=\"0\" width=\"800\" height=\"600\" fill=\"#f9f9f9\"/><g transform=\"translate(40 40)\"><g transform=\"translate(16 0)\"><text x=\"0\" y=\"0\" fill=\"#333\" font-family=\"Monaco\" font-size=\"16\">Visualizing Lines</text></g><g transform=\"translate(0 20)\"><g transform=\"translate(16 0)\"><g class=\"axis bottom\"><g class=\"tick\"><line x1=\"234.6666666666666666666666666\" y1=\"0\" x2=\"234.6666666666666666666666666\" y2=\"482.0\" stroke=\"#eee\" stroke-width=\"1\"/><text x=\"234.6666666666666666666666666\" y=\"486.0\" dy=\"1em\" fill=\"#9c9c9c\" text-anchor=\"middle\" font-family=\"Monaco\">2.5</text></g><g class=\"tick\"><line x1=\"469.3333333333333333333333334\" y1=\"0\" x2=\"469.3333333333333333333333334\" y2=\"482.0\" stroke=\"#eee\" stroke-width=\"1\"/><text x=\"469.3333333333333333333333334\" y=\"486.0\" dy=\"1em\" fill=\"#9c9c9c\" text-anchor=\"middle\" font-family=\"Monaco\">5</text></g><g class=\"tick\"><line x1=\"704\" y1=\"0\" x2=\"704\" y2=\"482.0\" stroke=\"#eee\" stroke-width=\"1\"/><text x=\"704\" y=\"486.0\" dy=\"1em\" fill=\"#9c9c9c\" text-anchor=\"middle\" font-family=\"Monaco\">7.5</text></g><g class=\"tick\"><line x1=\"0\" y1=\"0\" x2=\"0\" y2=\"482.0\" stroke=\"#a8a8a8\" stroke-width=\"1\"/><text x=\"0\" y=\"486.0\" dy=\"1em\" fill=\"#9c9c9c\" text-anchor=\"middle\" font-family=\"Monaco\">0</text></g></g><g class=\"axis left\"><g class=\"tick\"><line x1=\"-4\" y1=\"478\" x2=\"704.0\" y2=\"478\" stroke=\"#eee\" stroke-width=\"1\"/><text x=\"-8\" y=\"478\" dy=\"0.32em\" fill=\"#9c9c9c\" text-anchor=\"end\" font-family=\"Monaco\">2</text></g><g class=\"tick\"><line x1=\"-4\" y1=\"358.50\" x2=\"704.0\" y2=\"358.50\" stroke=\"#eee\" stroke-width=\"1\"/><text x=\"-8\" y=\"358.50\" dy=\"0.32em\" fill=\"#9c9c9c\" text-anchor=\"end\" font-family=\"Monaco\">3</text></g><g class=\"tick\"><line x1=\"-4\" y1=\"239.0\" x2=\"704.0\" y2=\"239.0\" stroke=\"#eee\" stroke-width=\"1\"/><text x=\"-8\" y=\"239.0\" dy=\"0.32em\" fill=\"#9c9c9c\" text-anchor=\"end\" font-family=\"Monaco\">4</text></g><g class=\"tick\"><line x1=\"-4\" y1=\"119.50\" x2=\"704.0\" y2=\"119.50\" stroke=\"#eee\" stroke-width=\"1\"/><text x=\"-8\" y=\"119.50\" dy=\"0.32em\" fill=\"#9c9c9c\" text-anchor=\"end\" font-family=\"Monaco\">5</text></g><g class=\"tick\"><line x1=\"-4\" y1=\"0\" x2=\"704.0\" y2=\"0\" stroke=\"#eee\" stroke-width=\"1\"/><text x=\"-8\" y=\"0\" dy=\"0.32em\" fill=\"#9c9c9c\" text-anchor=\"end\" font-family=\"Monaco\">6</text></g></g><g><g class=\"series lines\"><path stroke=\"#e41a1c\" fill=\"none\" stroke-width=\"2\" d=\"M 140.8 478 L 187.7333333333333333333333334 358.50 L 422.4 0 L 704 239.0\"/></g></g></g></g></g></g></svg>"
      ],
      "text/plain": [
       "<IPython.core.display.SVG object>"
      ]
     },
     "execution_count": 45,
     "metadata": {},
     "output_type": "execute_result"
    }
   ],
   "source": [
    "chart = leather.Chart('Visualizing Lines')\n",
    "chart.add_line(data1)\n",
    "chart.to_svg()"
   ]
  },
  {
   "cell_type": "code",
   "execution_count": 46,
   "id": "7f6cf9ad",
   "metadata": {},
   "outputs": [
    {
     "data": {
      "image/svg+xml": [
       "<svg xmlns=\"http://www.w3.org/2000/svg\" width=\"800\" height=\"600\" version=\"1.1\"><g><rect x=\"0\" y=\"0\" width=\"800\" height=\"600\" fill=\"#f9f9f9\"/><g transform=\"translate(40 40)\"><g transform=\"translate(16 0)\"><text x=\"0\" y=\"0\" fill=\"#333\" font-family=\"Monaco\" font-size=\"16\">Customized Line</text></g><g transform=\"translate(0 20)\"><g transform=\"translate(16 0)\"><g class=\"axis bottom\"><g class=\"tick\"><line x1=\"234.6666666666666666666666666\" y1=\"0\" x2=\"234.6666666666666666666666666\" y2=\"482.0\" stroke=\"#eee\" stroke-width=\"1\"/><text x=\"234.6666666666666666666666666\" y=\"486.0\" dy=\"1em\" fill=\"#9c9c9c\" text-anchor=\"middle\" font-family=\"Monaco\">2.5</text></g><g class=\"tick\"><line x1=\"469.3333333333333333333333334\" y1=\"0\" x2=\"469.3333333333333333333333334\" y2=\"482.0\" stroke=\"#eee\" stroke-width=\"1\"/><text x=\"469.3333333333333333333333334\" y=\"486.0\" dy=\"1em\" fill=\"#9c9c9c\" text-anchor=\"middle\" font-family=\"Monaco\">5</text></g><g class=\"tick\"><line x1=\"704\" y1=\"0\" x2=\"704\" y2=\"482.0\" stroke=\"#eee\" stroke-width=\"1\"/><text x=\"704\" y=\"486.0\" dy=\"1em\" fill=\"#9c9c9c\" text-anchor=\"middle\" font-family=\"Monaco\">7.5</text></g><g class=\"tick\"><line x1=\"0\" y1=\"0\" x2=\"0\" y2=\"482.0\" stroke=\"#a8a8a8\" stroke-width=\"1\"/><text x=\"0\" y=\"486.0\" dy=\"1em\" fill=\"#9c9c9c\" text-anchor=\"middle\" font-family=\"Monaco\">0</text></g></g><g class=\"axis left\"><g class=\"tick\"><line x1=\"-4\" y1=\"478\" x2=\"704.0\" y2=\"478\" stroke=\"#eee\" stroke-width=\"1\"/><text x=\"-8\" y=\"478\" dy=\"0.32em\" fill=\"#9c9c9c\" text-anchor=\"end\" font-family=\"Monaco\">2</text></g><g class=\"tick\"><line x1=\"-4\" y1=\"358.50\" x2=\"704.0\" y2=\"358.50\" stroke=\"#eee\" stroke-width=\"1\"/><text x=\"-8\" y=\"358.50\" dy=\"0.32em\" fill=\"#9c9c9c\" text-anchor=\"end\" font-family=\"Monaco\">3</text></g><g class=\"tick\"><line x1=\"-4\" y1=\"239.0\" x2=\"704.0\" y2=\"239.0\" stroke=\"#eee\" stroke-width=\"1\"/><text x=\"-8\" y=\"239.0\" dy=\"0.32em\" fill=\"#9c9c9c\" text-anchor=\"end\" font-family=\"Monaco\">4</text></g><g class=\"tick\"><line x1=\"-4\" y1=\"119.50\" x2=\"704.0\" y2=\"119.50\" stroke=\"#eee\" stroke-width=\"1\"/><text x=\"-8\" y=\"119.50\" dy=\"0.32em\" fill=\"#9c9c9c\" text-anchor=\"end\" font-family=\"Monaco\">5</text></g><g class=\"tick\"><line x1=\"-4\" y1=\"0\" x2=\"704.0\" y2=\"0\" stroke=\"#eee\" stroke-width=\"1\"/><text x=\"-8\" y=\"0\" dy=\"0.32em\" fill=\"#9c9c9c\" text-anchor=\"end\" font-family=\"Monaco\">6</text></g></g><g><g class=\"series lines\"><path stroke=\"#0000ff\" fill=\"none\" stroke-width=\"3\" d=\"M 140.8 478 L 187.7333333333333333333333334 358.50 L 422.4 0 L 704 239.0\"/></g></g></g></g></g></g></svg>"
      ],
      "text/plain": [
       "<IPython.core.display.SVG object>"
      ]
     },
     "execution_count": 46,
     "metadata": {},
     "output_type": "execute_result"
    }
   ],
   "source": [
    "chart = leather.Chart('Customized Line')\n",
    "chart.add_line(data1, stroke_color='#0000ff', width=3)\n",
    "chart.to_svg()"
   ]
  },
  {
   "cell_type": "code",
   "execution_count": 48,
   "id": "94048804",
   "metadata": {},
   "outputs": [
    {
     "data": {
      "image/svg+xml": [
       "<svg xmlns=\"http://www.w3.org/2000/svg\" width=\"800\" height=\"600\" version=\"1.1\"><g><rect x=\"0\" y=\"0\" width=\"800\" height=\"600\" fill=\"#f9f9f9\"/><g transform=\"translate(40 40)\"><g transform=\"translate(16 0)\"><text x=\"0\" y=\"0\" fill=\"#333\" font-family=\"Monaco\" font-size=\"16\">Visualizing Multiple Lines</text><g transform=\"translate(0 20)\"><g transform=\"translate(0 0)\"><rect x=\"0\" y=\"-10\" width=\"10\" height=\"10\" fill=\"#e41a1c\"/><text x=\"14\" y=\"0\" fill=\"#666\" font-family=\"Monaco\" font-size=\"14\">Unnamed series</text></g><g transform=\"translate(158 0)\"><rect x=\"0\" y=\"-10\" width=\"10\" height=\"10\" fill=\"#377eb8\"/><text x=\"14\" y=\"0\" fill=\"#666\" font-family=\"Monaco\" font-size=\"14\">Unnamed series</text></g></g></g><g transform=\"translate(0 38)\"><g transform=\"translate(16 0)\"><g class=\"axis bottom\"><g class=\"tick\"><line x1=\"234.6666666666666666666666666\" y1=\"0\" x2=\"234.6666666666666666666666666\" y2=\"464.0\" stroke=\"#eee\" stroke-width=\"1\"/><text x=\"234.6666666666666666666666666\" y=\"468.0\" dy=\"1em\" fill=\"#9c9c9c\" text-anchor=\"middle\" font-family=\"Monaco\">2.5</text></g><g class=\"tick\"><line x1=\"469.3333333333333333333333334\" y1=\"0\" x2=\"469.3333333333333333333333334\" y2=\"464.0\" stroke=\"#eee\" stroke-width=\"1\"/><text x=\"469.3333333333333333333333334\" y=\"468.0\" dy=\"1em\" fill=\"#9c9c9c\" text-anchor=\"middle\" font-family=\"Monaco\">5</text></g><g class=\"tick\"><line x1=\"704\" y1=\"0\" x2=\"704\" y2=\"464.0\" stroke=\"#eee\" stroke-width=\"1\"/><text x=\"704\" y=\"468.0\" dy=\"1em\" fill=\"#9c9c9c\" text-anchor=\"middle\" font-family=\"Monaco\">7.5</text></g><g class=\"tick\"><line x1=\"0\" y1=\"0\" x2=\"0\" y2=\"464.0\" stroke=\"#a8a8a8\" stroke-width=\"1\"/><text x=\"0\" y=\"468.0\" dy=\"1em\" fill=\"#9c9c9c\" text-anchor=\"middle\" font-family=\"Monaco\">0</text></g></g><g class=\"axis left\"><g class=\"tick\"><line x1=\"-4\" y1=\"460\" x2=\"704.0\" y2=\"460\" stroke=\"#eee\" stroke-width=\"1\"/><text x=\"-8\" y=\"460\" dy=\"0.32em\" fill=\"#9c9c9c\" text-anchor=\"end\" font-family=\"Monaco\">2</text></g><g class=\"tick\"><line x1=\"-4\" y1=\"345.00\" x2=\"704.0\" y2=\"345.00\" stroke=\"#eee\" stroke-width=\"1\"/><text x=\"-8\" y=\"345.00\" dy=\"0.32em\" fill=\"#9c9c9c\" text-anchor=\"end\" font-family=\"Monaco\">3</text></g><g class=\"tick\"><line x1=\"-4\" y1=\"230.0\" x2=\"704.0\" y2=\"230.0\" stroke=\"#eee\" stroke-width=\"1\"/><text x=\"-8\" y=\"230.0\" dy=\"0.32em\" fill=\"#9c9c9c\" text-anchor=\"end\" font-family=\"Monaco\">4</text></g><g class=\"tick\"><line x1=\"-4\" y1=\"115.00\" x2=\"704.0\" y2=\"115.00\" stroke=\"#eee\" stroke-width=\"1\"/><text x=\"-8\" y=\"115.00\" dy=\"0.32em\" fill=\"#9c9c9c\" text-anchor=\"end\" font-family=\"Monaco\">5</text></g><g class=\"tick\"><line x1=\"-4\" y1=\"0\" x2=\"704.0\" y2=\"0\" stroke=\"#eee\" stroke-width=\"1\"/><text x=\"-8\" y=\"0\" dy=\"0.32em\" fill=\"#9c9c9c\" text-anchor=\"end\" font-family=\"Monaco\">6</text></g></g><g><g class=\"series lines\"><path stroke=\"#e41a1c\" fill=\"none\" stroke-width=\"2\" d=\"M 140.8 460 L 187.7333333333333333333333334 345.00 L 422.4 0 L 704 230.0\"/></g><g class=\"series lines\"><path stroke=\"#377eb8\" fill=\"none\" stroke-width=\"2\" d=\"M 187.7333333333333333333333334 345.00 L 375.4666666666666666666666666 115.00 L 469.3333333333333333333333334 0 L 657.0666666666666666666666666 115.00\"/></g></g></g></g></g></g></svg>"
      ],
      "text/plain": [
       "<IPython.core.display.SVG object>"
      ]
     },
     "execution_count": 48,
     "metadata": {},
     "output_type": "execute_result"
    }
   ],
   "source": [
    "chart = leather.Chart('Visualizing Multiple Lines')\n",
    "chart.add_line(data1)\n",
    "chart.add_line(data2)\n",
    "chart.to_svg()"
   ]
  },
  {
   "cell_type": "code",
   "execution_count": 49,
   "id": "b341fc64",
   "metadata": {},
   "outputs": [
    {
     "data": {
      "image/svg+xml": [
       "<svg xmlns=\"http://www.w3.org/2000/svg\" width=\"800\" height=\"600\" version=\"1.1\"><g><rect x=\"0\" y=\"0\" width=\"800\" height=\"600\" fill=\"#f9f9f9\"/><g transform=\"translate(40 40)\"><g transform=\"translate(16 0)\"><text x=\"0\" y=\"0\" fill=\"#333\" font-family=\"Monaco\" font-size=\"16\">Visualizing Multiple Types</text><g transform=\"translate(0 20)\"><g transform=\"translate(0 0)\"><rect x=\"0\" y=\"-10\" width=\"10\" height=\"10\" fill=\"#e41a1c\"/><text x=\"14\" y=\"0\" fill=\"#666\" font-family=\"Monaco\" font-size=\"14\">Unnamed series</text></g><g transform=\"translate(158 0)\"><rect x=\"0\" y=\"-10\" width=\"10\" height=\"10\" fill=\"#377eb8\"/><text x=\"14\" y=\"0\" fill=\"#666\" font-family=\"Monaco\" font-size=\"14\">Unnamed series</text></g></g></g><g transform=\"translate(0 38)\"><g transform=\"translate(16 0)\"><g class=\"axis bottom\"><g class=\"tick\"><line x1=\"234.6666666666666666666666666\" y1=\"0\" x2=\"234.6666666666666666666666666\" y2=\"464.0\" stroke=\"#eee\" stroke-width=\"1\"/><text x=\"234.6666666666666666666666666\" y=\"468.0\" dy=\"1em\" fill=\"#9c9c9c\" text-anchor=\"middle\" font-family=\"Monaco\">2.5</text></g><g class=\"tick\"><line x1=\"469.3333333333333333333333334\" y1=\"0\" x2=\"469.3333333333333333333333334\" y2=\"464.0\" stroke=\"#eee\" stroke-width=\"1\"/><text x=\"469.3333333333333333333333334\" y=\"468.0\" dy=\"1em\" fill=\"#9c9c9c\" text-anchor=\"middle\" font-family=\"Monaco\">5</text></g><g class=\"tick\"><line x1=\"704\" y1=\"0\" x2=\"704\" y2=\"464.0\" stroke=\"#eee\" stroke-width=\"1\"/><text x=\"704\" y=\"468.0\" dy=\"1em\" fill=\"#9c9c9c\" text-anchor=\"middle\" font-family=\"Monaco\">7.5</text></g><g class=\"tick\"><line x1=\"0\" y1=\"0\" x2=\"0\" y2=\"464.0\" stroke=\"#a8a8a8\" stroke-width=\"1\"/><text x=\"0\" y=\"468.0\" dy=\"1em\" fill=\"#9c9c9c\" text-anchor=\"middle\" font-family=\"Monaco\">0</text></g></g><g class=\"axis left\"><g class=\"tick\"><line x1=\"-4\" y1=\"460\" x2=\"704.0\" y2=\"460\" stroke=\"#eee\" stroke-width=\"1\"/><text x=\"-8\" y=\"460\" dy=\"0.32em\" fill=\"#9c9c9c\" text-anchor=\"end\" font-family=\"Monaco\">2</text></g><g class=\"tick\"><line x1=\"-4\" y1=\"345.00\" x2=\"704.0\" y2=\"345.00\" stroke=\"#eee\" stroke-width=\"1\"/><text x=\"-8\" y=\"345.00\" dy=\"0.32em\" fill=\"#9c9c9c\" text-anchor=\"end\" font-family=\"Monaco\">3</text></g><g class=\"tick\"><line x1=\"-4\" y1=\"230.0\" x2=\"704.0\" y2=\"230.0\" stroke=\"#eee\" stroke-width=\"1\"/><text x=\"-8\" y=\"230.0\" dy=\"0.32em\" fill=\"#9c9c9c\" text-anchor=\"end\" font-family=\"Monaco\">4</text></g><g class=\"tick\"><line x1=\"-4\" y1=\"115.00\" x2=\"704.0\" y2=\"115.00\" stroke=\"#eee\" stroke-width=\"1\"/><text x=\"-8\" y=\"115.00\" dy=\"0.32em\" fill=\"#9c9c9c\" text-anchor=\"end\" font-family=\"Monaco\">5</text></g><g class=\"tick\"><line x1=\"-4\" y1=\"0\" x2=\"704.0\" y2=\"0\" stroke=\"#eee\" stroke-width=\"1\"/><text x=\"-8\" y=\"0\" dy=\"0.32em\" fill=\"#9c9c9c\" text-anchor=\"end\" font-family=\"Monaco\">6</text></g></g><g><g class=\"series lines\"><path stroke=\"#e41a1c\" fill=\"none\" stroke-width=\"2\" d=\"M 140.8 460 L 187.7333333333333333333333334 345.00 L 422.4 0 L 704 230.0\"/></g><g class=\"series dots\"><circle cx=\"187.7333333333333333333333334\" cy=\"345.00\" r=\"3\" fill=\"#377eb8\"/><circle cx=\"375.4666666666666666666666666\" cy=\"115.00\" r=\"3\" fill=\"#377eb8\"/><circle cx=\"469.3333333333333333333333334\" cy=\"0\" r=\"3\" fill=\"#377eb8\"/><circle cx=\"657.0666666666666666666666666\" cy=\"115.00\" r=\"3\" fill=\"#377eb8\"/></g></g></g></g></g></g></svg>"
      ],
      "text/plain": [
       "<IPython.core.display.SVG object>"
      ]
     },
     "execution_count": 49,
     "metadata": {},
     "output_type": "execute_result"
    }
   ],
   "source": [
    "chart = leather.Chart('Visualizing Multiple Types')\n",
    "chart.add_line(data1)\n",
    "chart.add_dots(data2)\n",
    "chart.to_svg()"
   ]
  },
  {
   "cell_type": "code",
   "execution_count": 50,
   "id": "7c2bbb77",
   "metadata": {},
   "outputs": [
    {
     "data": {
      "image/svg+xml": [
       "<svg xmlns=\"http://www.w3.org/2000/svg\" width=\"800\" height=\"600\" version=\"1.1\"><g><rect x=\"0\" y=\"0\" width=\"800\" height=\"600\" fill=\"#f9f9f9\"/><g transform=\"translate(40 40)\"><g transform=\"translate(16 0)\"><text x=\"0\" y=\"0\" fill=\"#333\" font-family=\"Monaco\" font-size=\"16\">Visualizing Bars</text></g><g transform=\"translate(0 20)\"><g transform=\"translate(16 0)\"><g class=\"axis bottom\"><g class=\"tick\"><line x1=\"176.00\" y1=\"0\" x2=\"176.00\" y2=\"482.0\" stroke=\"#eee\" stroke-width=\"1\"/><text x=\"176.00\" y=\"486.0\" dy=\"1em\" fill=\"#9c9c9c\" text-anchor=\"middle\" font-family=\"Monaco\">1</text></g><g class=\"tick\"><line x1=\"352.0\" y1=\"0\" x2=\"352.0\" y2=\"482.0\" stroke=\"#eee\" stroke-width=\"1\"/><text x=\"352.0\" y=\"486.0\" dy=\"1em\" fill=\"#9c9c9c\" text-anchor=\"middle\" font-family=\"Monaco\">2</text></g><g class=\"tick\"><line x1=\"528.00\" y1=\"0\" x2=\"528.00\" y2=\"482.0\" stroke=\"#eee\" stroke-width=\"1\"/><text x=\"528.00\" y=\"486.0\" dy=\"1em\" fill=\"#9c9c9c\" text-anchor=\"middle\" font-family=\"Monaco\">3</text></g><g class=\"tick\"><line x1=\"704\" y1=\"0\" x2=\"704\" y2=\"482.0\" stroke=\"#eee\" stroke-width=\"1\"/><text x=\"704\" y=\"486.0\" dy=\"1em\" fill=\"#9c9c9c\" text-anchor=\"middle\" font-family=\"Monaco\">4</text></g><g class=\"tick\"><line x1=\"0\" y1=\"0\" x2=\"0\" y2=\"482.0\" stroke=\"#a8a8a8\" stroke-width=\"1\"/><text x=\"0\" y=\"486.0\" dy=\"1em\" fill=\"#9c9c9c\" text-anchor=\"middle\" font-family=\"Monaco\">0</text></g></g><g class=\"axis left\"><g class=\"tick\"><line x1=\"-4\" y1=\"418.25\" x2=\"704.0\" y2=\"418.25\" stroke=\"#eee\" stroke-width=\"1\"/><text x=\"-8\" y=\"418.25\" dy=\"0.32em\" fill=\"#9c9c9c\" text-anchor=\"end\" font-family=\"Monaco\">D</text></g><g class=\"tick\"><line x1=\"-4\" y1=\"298.75\" x2=\"704.0\" y2=\"298.75\" stroke=\"#eee\" stroke-width=\"1\"/><text x=\"-8\" y=\"298.75\" dy=\"0.32em\" fill=\"#9c9c9c\" text-anchor=\"end\" font-family=\"Monaco\">C</text></g><g class=\"tick\"><line x1=\"-4\" y1=\"179.25\" x2=\"704.0\" y2=\"179.25\" stroke=\"#eee\" stroke-width=\"1\"/><text x=\"-8\" y=\"179.25\" dy=\"0.32em\" fill=\"#9c9c9c\" text-anchor=\"end\" font-family=\"Monaco\">B</text></g><g class=\"tick\"><line x1=\"-4\" y1=\"59.75\" x2=\"704.0\" y2=\"59.75\" stroke=\"#eee\" stroke-width=\"1\"/><text x=\"-8\" y=\"59.75\" dy=\"0.32em\" fill=\"#9c9c9c\" text-anchor=\"end\" font-family=\"Monaco\">A</text></g></g><g><g class=\"series bars\"><rect x=\"0\" y=\"364.475\" width=\"704\" height=\"107.550\" fill=\"#e41a1c\"/><rect x=\"0\" y=\"244.975\" width=\"528.00\" height=\"107.550\" fill=\"#e41a1c\"/><rect x=\"0\" y=\"125.475\" width=\"352.0\" height=\"107.550\" fill=\"#e41a1c\"/><rect x=\"0\" y=\"5.975\" width=\"176.00\" height=\"107.550\" fill=\"#e41a1c\"/></g></g></g></g></g></g></svg>"
      ],
      "text/plain": [
       "<IPython.core.display.SVG object>"
      ]
     },
     "execution_count": 50,
     "metadata": {},
     "output_type": "execute_result"
    }
   ],
   "source": [
    "data = [[1, 'A'], [2, 'B'], [3, 'C'], [4, 'D']]\n",
    "chart = leather.Chart('Visualizing Bars')\n",
    "chart.add_bars(data)\n",
    "chart.to_svg()"
   ]
  },
  {
   "cell_type": "code",
   "execution_count": 51,
   "id": "a0c31034",
   "metadata": {},
   "outputs": [
    {
     "data": {
      "image/svg+xml": [
       "<svg xmlns=\"http://www.w3.org/2000/svg\" width=\"800\" height=\"600\" version=\"1.1\"><g><rect x=\"0\" y=\"0\" width=\"800\" height=\"600\" fill=\"#f9f9f9\"/><g transform=\"translate(40 40)\"><g transform=\"translate(16 0)\"><text x=\"0\" y=\"0\" fill=\"#333\" font-family=\"Monaco\" font-size=\"16\">Customizing Bars</text></g><g transform=\"translate(0 20)\"><g transform=\"translate(16 0)\"><g class=\"axis bottom\"><g class=\"tick\"><line x1=\"176.00\" y1=\"0\" x2=\"176.00\" y2=\"482.0\" stroke=\"#eee\" stroke-width=\"1\"/><text x=\"176.00\" y=\"486.0\" dy=\"1em\" fill=\"#9c9c9c\" text-anchor=\"middle\" font-family=\"Monaco\">1</text></g><g class=\"tick\"><line x1=\"352.0\" y1=\"0\" x2=\"352.0\" y2=\"482.0\" stroke=\"#eee\" stroke-width=\"1\"/><text x=\"352.0\" y=\"486.0\" dy=\"1em\" fill=\"#9c9c9c\" text-anchor=\"middle\" font-family=\"Monaco\">2</text></g><g class=\"tick\"><line x1=\"528.00\" y1=\"0\" x2=\"528.00\" y2=\"482.0\" stroke=\"#eee\" stroke-width=\"1\"/><text x=\"528.00\" y=\"486.0\" dy=\"1em\" fill=\"#9c9c9c\" text-anchor=\"middle\" font-family=\"Monaco\">3</text></g><g class=\"tick\"><line x1=\"704\" y1=\"0\" x2=\"704\" y2=\"482.0\" stroke=\"#eee\" stroke-width=\"1\"/><text x=\"704\" y=\"486.0\" dy=\"1em\" fill=\"#9c9c9c\" text-anchor=\"middle\" font-family=\"Monaco\">4</text></g><g class=\"tick\"><line x1=\"0\" y1=\"0\" x2=\"0\" y2=\"482.0\" stroke=\"#a8a8a8\" stroke-width=\"1\"/><text x=\"0\" y=\"486.0\" dy=\"1em\" fill=\"#9c9c9c\" text-anchor=\"middle\" font-family=\"Monaco\">0</text></g></g><g class=\"axis left\"><g class=\"tick\"><line x1=\"-4\" y1=\"418.25\" x2=\"704.0\" y2=\"418.25\" stroke=\"#eee\" stroke-width=\"1\"/><text x=\"-8\" y=\"418.25\" dy=\"0.32em\" fill=\"#9c9c9c\" text-anchor=\"end\" font-family=\"Monaco\">D</text></g><g class=\"tick\"><line x1=\"-4\" y1=\"298.75\" x2=\"704.0\" y2=\"298.75\" stroke=\"#eee\" stroke-width=\"1\"/><text x=\"-8\" y=\"298.75\" dy=\"0.32em\" fill=\"#9c9c9c\" text-anchor=\"end\" font-family=\"Monaco\">C</text></g><g class=\"tick\"><line x1=\"-4\" y1=\"179.25\" x2=\"704.0\" y2=\"179.25\" stroke=\"#eee\" stroke-width=\"1\"/><text x=\"-8\" y=\"179.25\" dy=\"0.32em\" fill=\"#9c9c9c\" text-anchor=\"end\" font-family=\"Monaco\">B</text></g><g class=\"tick\"><line x1=\"-4\" y1=\"59.75\" x2=\"704.0\" y2=\"59.75\" stroke=\"#eee\" stroke-width=\"1\"/><text x=\"-8\" y=\"59.75\" dy=\"0.32em\" fill=\"#9c9c9c\" text-anchor=\"end\" font-family=\"Monaco\">A</text></g></g><g><g class=\"series bars\"><rect x=\"0\" y=\"364.475\" width=\"704\" height=\"107.550\" fill=\"#777777\"/><rect x=\"0\" y=\"244.975\" width=\"528.00\" height=\"107.550\" fill=\"#777777\"/><rect x=\"0\" y=\"125.475\" width=\"352.0\" height=\"107.550\" fill=\"#777777\"/><rect x=\"0\" y=\"5.975\" width=\"176.00\" height=\"107.550\" fill=\"#777777\"/></g></g></g></g></g></g></svg>"
      ],
      "text/plain": [
       "<IPython.core.display.SVG object>"
      ]
     },
     "execution_count": 51,
     "metadata": {},
     "output_type": "execute_result"
    }
   ],
   "source": [
    "chart = leather.Chart('Customizing Bars')\n",
    "chart.add_bars(data, fill_color='#777777')\n",
    "chart.to_svg()"
   ]
  },
  {
   "cell_type": "code",
   "execution_count": 52,
   "id": "6f81adda",
   "metadata": {},
   "outputs": [
    {
     "data": {
      "image/svg+xml": [
       "<svg xmlns=\"http://www.w3.org/2000/svg\" width=\"800\" height=\"600\" version=\"1.1\"><g><rect x=\"0\" y=\"0\" width=\"800\" height=\"600\" fill=\"#f9f9f9\"/><g transform=\"translate(40 40)\"><g transform=\"translate(16 0)\"><text x=\"0\" y=\"0\" fill=\"#333\" font-family=\"Monaco\" font-size=\"16\">Visualing Columns</text></g><g transform=\"translate(0 20)\"><g transform=\"translate(16 0)\"><g class=\"axis bottom\"><g class=\"tick\"><line x1=\"88\" y1=\"0\" x2=\"88\" y2=\"482.0\" stroke=\"#eee\" stroke-width=\"1\"/><text x=\"88\" y=\"486.0\" dy=\"1em\" fill=\"#9c9c9c\" text-anchor=\"middle\" font-family=\"Monaco\">A</text></g><g class=\"tick\"><line x1=\"264\" y1=\"0\" x2=\"264\" y2=\"482.0\" stroke=\"#eee\" stroke-width=\"1\"/><text x=\"264\" y=\"486.0\" dy=\"1em\" fill=\"#9c9c9c\" text-anchor=\"middle\" font-family=\"Monaco\">B</text></g><g class=\"tick\"><line x1=\"440\" y1=\"0\" x2=\"440\" y2=\"482.0\" stroke=\"#eee\" stroke-width=\"1\"/><text x=\"440\" y=\"486.0\" dy=\"1em\" fill=\"#9c9c9c\" text-anchor=\"middle\" font-family=\"Monaco\">C</text></g><g class=\"tick\"><line x1=\"616\" y1=\"0\" x2=\"616\" y2=\"482.0\" stroke=\"#eee\" stroke-width=\"1\"/><text x=\"616\" y=\"486.0\" dy=\"1em\" fill=\"#9c9c9c\" text-anchor=\"middle\" font-family=\"Monaco\">D</text></g></g><g class=\"axis left\"><g class=\"tick\"><line x1=\"-4\" y1=\"358.50\" x2=\"704.0\" y2=\"358.50\" stroke=\"#eee\" stroke-width=\"1\"/><text x=\"-8\" y=\"358.50\" dy=\"0.32em\" fill=\"#9c9c9c\" text-anchor=\"end\" font-family=\"Monaco\">1</text></g><g class=\"tick\"><line x1=\"-4\" y1=\"239.0\" x2=\"704.0\" y2=\"239.0\" stroke=\"#eee\" stroke-width=\"1\"/><text x=\"-8\" y=\"239.0\" dy=\"0.32em\" fill=\"#9c9c9c\" text-anchor=\"end\" font-family=\"Monaco\">2</text></g><g class=\"tick\"><line x1=\"-4\" y1=\"119.50\" x2=\"704.0\" y2=\"119.50\" stroke=\"#eee\" stroke-width=\"1\"/><text x=\"-8\" y=\"119.50\" dy=\"0.32em\" fill=\"#9c9c9c\" text-anchor=\"end\" font-family=\"Monaco\">3</text></g><g class=\"tick\"><line x1=\"-4\" y1=\"0\" x2=\"704.0\" y2=\"0\" stroke=\"#eee\" stroke-width=\"1\"/><text x=\"-8\" y=\"0\" dy=\"0.32em\" fill=\"#9c9c9c\" text-anchor=\"end\" font-family=\"Monaco\">4</text></g><g class=\"tick\"><line x1=\"-4\" y1=\"478\" x2=\"704.0\" y2=\"478\" stroke=\"#a8a8a8\" stroke-width=\"1\"/><text x=\"-8\" y=\"478\" dy=\"0.32em\" fill=\"#9c9c9c\" text-anchor=\"end\" font-family=\"Monaco\">0</text></g></g><g><g class=\"series columns\"><rect x=\"8.8\" y=\"358.50\" width=\"158.4\" height=\"119.50\" fill=\"#e41a1c\"/><rect x=\"184.8\" y=\"239.0\" width=\"158.4\" height=\"239.0\" fill=\"#e41a1c\"/><rect x=\"360.8\" y=\"119.50\" width=\"158.4\" height=\"358.50\" fill=\"#e41a1c\"/><rect x=\"536.8\" y=\"0\" width=\"158.4\" height=\"478\" fill=\"#e41a1c\"/></g></g></g></g></g></g></svg>"
      ],
      "text/plain": [
       "<IPython.core.display.SVG object>"
      ]
     },
     "execution_count": 52,
     "metadata": {},
     "output_type": "execute_result"
    }
   ],
   "source": [
    "data = [('A', 1), ('B', 2), ('C', 3), ('D', 4)]\n",
    "chart = leather.Chart('Visualing Columns')\n",
    "chart.add_columns(data)\n",
    "chart.to_svg()"
   ]
  },
  {
   "cell_type": "code",
   "execution_count": 53,
   "id": "d7e2f0c6",
   "metadata": {},
   "outputs": [
    {
     "data": {
      "image/svg+xml": [
       "<svg xmlns=\"http://www.w3.org/2000/svg\" width=\"800\" height=\"600\" version=\"1.1\"><g><rect x=\"0\" y=\"0\" width=\"800\" height=\"600\" fill=\"#f9f9f9\"/><g transform=\"translate(40 40)\"><g transform=\"translate(16 0)\"><text x=\"0\" y=\"0\" fill=\"#333\" font-family=\"Monaco\" font-size=\"16\">Customizing Columns</text></g><g transform=\"translate(0 20)\"><g transform=\"translate(16 0)\"><g class=\"axis bottom\"><g class=\"tick\"><line x1=\"88\" y1=\"0\" x2=\"88\" y2=\"482.0\" stroke=\"#eee\" stroke-width=\"1\"/><text x=\"88\" y=\"486.0\" dy=\"1em\" fill=\"#9c9c9c\" text-anchor=\"middle\" font-family=\"Monaco\">A</text></g><g class=\"tick\"><line x1=\"264\" y1=\"0\" x2=\"264\" y2=\"482.0\" stroke=\"#eee\" stroke-width=\"1\"/><text x=\"264\" y=\"486.0\" dy=\"1em\" fill=\"#9c9c9c\" text-anchor=\"middle\" font-family=\"Monaco\">B</text></g><g class=\"tick\"><line x1=\"440\" y1=\"0\" x2=\"440\" y2=\"482.0\" stroke=\"#eee\" stroke-width=\"1\"/><text x=\"440\" y=\"486.0\" dy=\"1em\" fill=\"#9c9c9c\" text-anchor=\"middle\" font-family=\"Monaco\">C</text></g><g class=\"tick\"><line x1=\"616\" y1=\"0\" x2=\"616\" y2=\"482.0\" stroke=\"#eee\" stroke-width=\"1\"/><text x=\"616\" y=\"486.0\" dy=\"1em\" fill=\"#9c9c9c\" text-anchor=\"middle\" font-family=\"Monaco\">D</text></g></g><g class=\"axis left\"><g class=\"tick\"><line x1=\"-4\" y1=\"358.50\" x2=\"704.0\" y2=\"358.50\" stroke=\"#eee\" stroke-width=\"1\"/><text x=\"-8\" y=\"358.50\" dy=\"0.32em\" fill=\"#9c9c9c\" text-anchor=\"end\" font-family=\"Monaco\">1</text></g><g class=\"tick\"><line x1=\"-4\" y1=\"239.0\" x2=\"704.0\" y2=\"239.0\" stroke=\"#eee\" stroke-width=\"1\"/><text x=\"-8\" y=\"239.0\" dy=\"0.32em\" fill=\"#9c9c9c\" text-anchor=\"end\" font-family=\"Monaco\">2</text></g><g class=\"tick\"><line x1=\"-4\" y1=\"119.50\" x2=\"704.0\" y2=\"119.50\" stroke=\"#eee\" stroke-width=\"1\"/><text x=\"-8\" y=\"119.50\" dy=\"0.32em\" fill=\"#9c9c9c\" text-anchor=\"end\" font-family=\"Monaco\">3</text></g><g class=\"tick\"><line x1=\"-4\" y1=\"0\" x2=\"704.0\" y2=\"0\" stroke=\"#eee\" stroke-width=\"1\"/><text x=\"-8\" y=\"0\" dy=\"0.32em\" fill=\"#9c9c9c\" text-anchor=\"end\" font-family=\"Monaco\">4</text></g><g class=\"tick\"><line x1=\"-4\" y1=\"478\" x2=\"704.0\" y2=\"478\" stroke=\"#a8a8a8\" stroke-width=\"1\"/><text x=\"-8\" y=\"478\" dy=\"0.32em\" fill=\"#9c9c9c\" text-anchor=\"end\" font-family=\"Monaco\">0</text></g></g><g><g class=\"series columns\"><rect x=\"8.8\" y=\"358.50\" width=\"158.4\" height=\"119.50\" fill=\"#77ff77\"/><rect x=\"184.8\" y=\"239.0\" width=\"158.4\" height=\"239.0\" fill=\"#77ff77\"/><rect x=\"360.8\" y=\"119.50\" width=\"158.4\" height=\"358.50\" fill=\"#77ff77\"/><rect x=\"536.8\" y=\"0\" width=\"158.4\" height=\"478\" fill=\"#77ff77\"/></g></g></g></g></g></g></svg>"
      ],
      "text/plain": [
       "<IPython.core.display.SVG object>"
      ]
     },
     "execution_count": 53,
     "metadata": {},
     "output_type": "execute_result"
    }
   ],
   "source": [
    "chart = leather.Chart('Customizing Columns')\n",
    "chart.add_columns(data, fill_color='#77ff77')\n",
    "chart.to_svg()"
   ]
  },
  {
   "cell_type": "code",
   "execution_count": null,
   "id": "9774e7cb",
   "metadata": {},
   "outputs": [],
   "source": []
  }
 ],
 "metadata": {
  "kernelspec": {
   "display_name": "Python 3 (ipykernel)",
   "language": "python",
   "name": "python3"
  },
  "language_info": {
   "codemirror_mode": {
    "name": "ipython",
    "version": 3
   },
   "file_extension": ".py",
   "mimetype": "text/x-python",
   "name": "python",
   "nbconvert_exporter": "python",
   "pygments_lexer": "ipython3",
   "version": "3.10.9"
  }
 },
 "nbformat": 4,
 "nbformat_minor": 5
}
